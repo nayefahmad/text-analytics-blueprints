{
 "cells": [
  {
   "cell_type": "markdown",
   "id": "07a2f426",
   "metadata": {},
   "source": [
    "# Analyzing the UN General Assembly Debates data\n",
    "\n"
   ]
  },
  {
   "cell_type": "code",
   "execution_count": 1,
   "id": "1342447a",
   "metadata": {
    "execution": {
     "iopub.execute_input": "2022-02-07T17:47:38.202028Z",
     "iopub.status.busy": "2022-02-07T17:47:38.200024Z",
     "iopub.status.idle": "2022-02-07T17:47:38.838840Z",
     "shell.execute_reply": "2022-02-07T17:47:38.838840Z"
    }
   },
   "outputs": [],
   "source": [
    "# ## Imports\n",
    "import pandas as pd\n",
    "from pathlib import Path"
   ]
  },
  {
   "cell_type": "code",
   "execution_count": 2,
   "id": "f6f6ff3f",
   "metadata": {
    "execution": {
     "iopub.execute_input": "2022-02-07T17:47:38.842810Z",
     "iopub.status.busy": "2022-02-07T17:47:38.842810Z",
     "iopub.status.idle": "2022-02-07T17:47:38.855439Z",
     "shell.execute_reply": "2022-02-07T17:47:38.854405Z"
    }
   },
   "outputs": [],
   "source": [
    "import sys\n",
    "sys.path.extend(['C:/Nayef/text-analytics-blueprints'])"
   ]
  },
  {
   "cell_type": "code",
   "execution_count": 3,
   "id": "95a79eae",
   "metadata": {
    "execution": {
     "iopub.execute_input": "2022-02-07T17:47:38.860445Z",
     "iopub.status.busy": "2022-02-07T17:47:38.859407Z",
     "iopub.status.idle": "2022-02-07T17:47:40.282483Z",
     "shell.execute_reply": "2022-02-07T17:47:40.283486Z"
    }
   },
   "outputs": [],
   "source": [
    "# ## Loading data\n",
    "dir = Path(\"C:/Nayef/text-analytics-blueprints/data\")\n",
    "file = \"un-general-debates.csv\"\n",
    "df_un_debates = pd.read_csv(dir.joinpath(file))"
   ]
  },
  {
   "cell_type": "code",
   "execution_count": 4,
   "id": "3bf84022",
   "metadata": {
    "execution": {
     "iopub.execute_input": "2022-02-07T17:47:40.301486Z",
     "iopub.status.busy": "2022-02-07T17:47:40.300488Z",
     "iopub.status.idle": "2022-02-07T17:47:40.313523Z",
     "shell.execute_reply": "2022-02-07T17:47:40.313523Z"
    }
   },
   "outputs": [
    {
     "data": {
      "text/html": [
       "<div>\n",
       "<style scoped>\n",
       "    .dataframe tbody tr th:only-of-type {\n",
       "        vertical-align: middle;\n",
       "    }\n",
       "\n",
       "    .dataframe tbody tr th {\n",
       "        vertical-align: top;\n",
       "    }\n",
       "\n",
       "    .dataframe thead th {\n",
       "        text-align: right;\n",
       "    }\n",
       "</style>\n",
       "<table border=\"1\" class=\"dataframe\">\n",
       "  <thead>\n",
       "    <tr style=\"text-align: right;\">\n",
       "      <th></th>\n",
       "      <th>session</th>\n",
       "      <th>year</th>\n",
       "      <th>country</th>\n",
       "      <th>text</th>\n",
       "    </tr>\n",
       "  </thead>\n",
       "  <tbody>\n",
       "    <tr>\n",
       "      <th>2353</th>\n",
       "      <td>65</td>\n",
       "      <td>2010</td>\n",
       "      <td>UGA</td>\n",
       "      <td>I did not attend the High-\\nlevel Meeting on t...</td>\n",
       "    </tr>\n",
       "    <tr>\n",
       "      <th>6563</th>\n",
       "      <td>28</td>\n",
       "      <td>1973</td>\n",
       "      <td>ARE</td>\n",
       "      <td>﻿76.\\tMr. President, I am happy to extend to y...</td>\n",
       "    </tr>\n",
       "    <tr>\n",
       "      <th>5664</th>\n",
       "      <td>48</td>\n",
       "      <td>1993</td>\n",
       "      <td>UGA</td>\n",
       "      <td>I wish, on behalf of the\\nUganda delegation, t...</td>\n",
       "    </tr>\n",
       "    <tr>\n",
       "      <th>3907</th>\n",
       "      <td>42</td>\n",
       "      <td>1987</td>\n",
       "      <td>CYP</td>\n",
       "      <td>﻿\\nIt is with great pleasure. Sit, that I exte...</td>\n",
       "    </tr>\n",
       "    <tr>\n",
       "      <th>2004</th>\n",
       "      <td>33</td>\n",
       "      <td>1978</td>\n",
       "      <td>LBR</td>\n",
       "      <td>﻿251.\\tThe delegation of Liberia extends its w...</td>\n",
       "    </tr>\n",
       "  </tbody>\n",
       "</table>\n",
       "</div>"
      ],
      "text/plain": [
       "      session  year country                                               text\n",
       "2353       65  2010     UGA  I did not attend the High-\\nlevel Meeting on t...\n",
       "6563       28  1973     ARE  ﻿76.\\tMr. President, I am happy to extend to y...\n",
       "5664       48  1993     UGA  I wish, on behalf of the\\nUganda delegation, t...\n",
       "3907       42  1987     CYP  ﻿\\nIt is with great pleasure. Sit, that I exte...\n",
       "2004       33  1978     LBR  ﻿251.\\tThe delegation of Liberia extends its w..."
      ]
     },
     "execution_count": 1,
     "metadata": {},
     "output_type": "execute_result"
    }
   ],
   "source": [
    "df_un_debates.head(5)\n",
    "df_un_debates.sample(5)"
   ]
  },
  {
   "cell_type": "code",
   "execution_count": 5,
   "id": "dbb03055",
   "metadata": {
    "execution": {
     "iopub.execute_input": "2022-02-07T17:47:40.325488Z",
     "iopub.status.busy": "2022-02-07T17:47:40.320524Z",
     "iopub.status.idle": "2022-02-07T17:47:40.362525Z",
     "shell.execute_reply": "2022-02-07T17:47:40.363525Z"
    }
   },
   "outputs": [
    {
     "name": "stdout",
     "output_type": "stream",
     "text": [
      "<class 'pandas.core.frame.DataFrame'>\n",
      "RangeIndex: 7507 entries, 0 to 7506\n",
      "Data columns (total 4 columns):\n",
      " #   Column   Non-Null Count  Dtype \n",
      "---  ------   --------------  ----- \n",
      " 0   session  7507 non-null   int64 \n",
      " 1   year     7507 non-null   int64 \n",
      " 2   country  7507 non-null   object\n",
      " 3   text     7507 non-null   object\n",
      "dtypes: int64(2), object(2)\n",
      "memory usage: 234.7+ KB\n"
     ]
    },
    {
     "data": {
      "text/html": [
       "<div>\n",
       "<style scoped>\n",
       "    .dataframe tbody tr th:only-of-type {\n",
       "        vertical-align: middle;\n",
       "    }\n",
       "\n",
       "    .dataframe tbody tr th {\n",
       "        vertical-align: top;\n",
       "    }\n",
       "\n",
       "    .dataframe thead th {\n",
       "        text-align: right;\n",
       "    }\n",
       "</style>\n",
       "<table border=\"1\" class=\"dataframe\">\n",
       "  <thead>\n",
       "    <tr style=\"text-align: right;\">\n",
       "      <th></th>\n",
       "      <th>count</th>\n",
       "      <th>mean</th>\n",
       "      <th>std</th>\n",
       "      <th>min</th>\n",
       "      <th>25%</th>\n",
       "      <th>50%</th>\n",
       "      <th>75%</th>\n",
       "      <th>max</th>\n",
       "    </tr>\n",
       "  </thead>\n",
       "  <tbody>\n",
       "    <tr>\n",
       "      <th>session</th>\n",
       "      <td>7507.0</td>\n",
       "      <td>49.610763</td>\n",
       "      <td>12.892155</td>\n",
       "      <td>25.0</td>\n",
       "      <td>39.0</td>\n",
       "      <td>51.0</td>\n",
       "      <td>61.0</td>\n",
       "      <td>70.0</td>\n",
       "    </tr>\n",
       "    <tr>\n",
       "      <th>year</th>\n",
       "      <td>7507.0</td>\n",
       "      <td>1994.610763</td>\n",
       "      <td>12.892155</td>\n",
       "      <td>1970.0</td>\n",
       "      <td>1984.0</td>\n",
       "      <td>1996.0</td>\n",
       "      <td>2006.0</td>\n",
       "      <td>2015.0</td>\n",
       "    </tr>\n",
       "  </tbody>\n",
       "</table>\n",
       "</div>"
      ],
      "text/plain": [
       "          count         mean        std     min     25%     50%     75%  \\\n",
       "session  7507.0    49.610763  12.892155    25.0    39.0    51.0    61.0   \n",
       "year     7507.0  1994.610763  12.892155  1970.0  1984.0  1996.0  2006.0   \n",
       "\n",
       "            max  \n",
       "session    70.0  \n",
       "year     2015.0  "
      ]
     },
     "execution_count": 1,
     "metadata": {},
     "output_type": "execute_result"
    }
   ],
   "source": [
    "df_un_debates.columns\n",
    "df_un_debates.dtypes\n",
    "df_un_debates.info()\n",
    "df_un_debates.describe().T\n",
    "# df_un_debates.describe(include=['0'])  # todo: include='0' should let us include categorical data  # noqa"
   ]
  }
 ],
 "metadata": {
  "jupytext": {
   "cell_metadata_filter": "-all"
  },
  "kernelspec": {
   "display_name": "Python 3",
   "language": "python",
   "name": "python3"
  },
  "language_info": {
   "codemirror_mode": {
    "name": "ipython",
    "version": 3
   },
   "file_extension": ".py",
   "mimetype": "text/x-python",
   "name": "python",
   "nbconvert_exporter": "python",
   "pygments_lexer": "ipython3",
   "version": "3.6.5"
  }
 },
 "nbformat": 4,
 "nbformat_minor": 5
}
