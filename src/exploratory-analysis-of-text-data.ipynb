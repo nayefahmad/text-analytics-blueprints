{
 "cells": [
  {
   "cell_type": "markdown",
   "id": "12da3f4a",
   "metadata": {},
   "source": [
    "# Analyzing the UN General Assembly Debates data\n",
    "\n"
   ]
  },
  {
   "cell_type": "markdown",
   "id": "edab959e",
   "metadata": {},
   "source": [
    "## Imports"
   ]
  },
  {
   "cell_type": "code",
   "execution_count": 1,
   "id": "436aa552",
   "metadata": {
    "execution": {
     "iopub.execute_input": "2022-02-07T18:39:21.281915Z",
     "iopub.status.busy": "2022-02-07T18:39:21.279922Z",
     "iopub.status.idle": "2022-02-07T18:39:21.962694Z",
     "shell.execute_reply": "2022-02-07T18:39:21.962134Z"
    }
   },
   "outputs": [],
   "source": [
    "import pandas as pd\n",
    "from pathlib import Path"
   ]
  },
  {
   "cell_type": "code",
   "execution_count": 2,
   "id": "73d071d6",
   "metadata": {
    "execution": {
     "iopub.execute_input": "2022-02-07T18:39:21.968405Z",
     "iopub.status.busy": "2022-02-07T18:39:21.967415Z",
     "iopub.status.idle": "2022-02-07T18:39:21.978666Z",
     "shell.execute_reply": "2022-02-07T18:39:21.977664Z"
    }
   },
   "outputs": [],
   "source": [
    "import sys"
   ]
  },
  {
   "cell_type": "code",
   "execution_count": 3,
   "id": "6990084b",
   "metadata": {
    "execution": {
     "iopub.execute_input": "2022-02-07T18:39:21.982666Z",
     "iopub.status.busy": "2022-02-07T18:39:21.982666Z",
     "iopub.status.idle": "2022-02-07T18:39:21.993679Z",
     "shell.execute_reply": "2022-02-07T18:39:21.993679Z"
    }
   },
   "outputs": [],
   "source": [
    "sys.path.extend([\"C:/Nayef/text-analytics-blueprints\"])"
   ]
  },
  {
   "cell_type": "code",
   "execution_count": 4,
   "id": "ac73b7da",
   "metadata": {
    "execution": {
     "iopub.execute_input": "2022-02-07T18:39:21.997664Z",
     "iopub.status.busy": "2022-02-07T18:39:21.997664Z",
     "iopub.status.idle": "2022-02-07T18:39:22.009664Z",
     "shell.execute_reply": "2022-02-07T18:39:22.008679Z"
    }
   },
   "outputs": [],
   "source": [
    "from IPython.core.interactiveshell import InteractiveShell\n",
    "InteractiveShell.ast_node_interactivity = \"all\""
   ]
  },
  {
   "cell_type": "markdown",
   "id": "830e3370",
   "metadata": {},
   "source": [
    "## Loading data"
   ]
  },
  {
   "cell_type": "code",
   "execution_count": 5,
   "id": "e300479b",
   "metadata": {
    "execution": {
     "iopub.execute_input": "2022-02-07T18:39:22.014668Z",
     "iopub.status.busy": "2022-02-07T18:39:22.014668Z",
     "iopub.status.idle": "2022-02-07T18:39:23.557267Z",
     "shell.execute_reply": "2022-02-07T18:39:23.556265Z"
    }
   },
   "outputs": [],
   "source": [
    "dir = Path(\"C:/Nayef/text-analytics-blueprints/data\")\n",
    "file = \"un-general-debates.csv\"\n",
    "df_un_debates = pd.read_csv(dir.joinpath(file))"
   ]
  },
  {
   "cell_type": "code",
   "execution_count": 6,
   "id": "0a9ab76f",
   "metadata": {
    "execution": {
     "iopub.execute_input": "2022-02-07T18:39:23.572265Z",
     "iopub.status.busy": "2022-02-07T18:39:23.570280Z",
     "iopub.status.idle": "2022-02-07T18:39:23.603757Z",
     "shell.execute_reply": "2022-02-07T18:39:23.603757Z"
    }
   },
   "outputs": [
    {
     "data": {
      "text/html": [
       "<div>\n",
       "<style scoped>\n",
       "    .dataframe tbody tr th:only-of-type {\n",
       "        vertical-align: middle;\n",
       "    }\n",
       "\n",
       "    .dataframe tbody tr th {\n",
       "        vertical-align: top;\n",
       "    }\n",
       "\n",
       "    .dataframe thead th {\n",
       "        text-align: right;\n",
       "    }\n",
       "</style>\n",
       "<table border=\"1\" class=\"dataframe\">\n",
       "  <thead>\n",
       "    <tr style=\"text-align: right;\">\n",
       "      <th></th>\n",
       "      <th>session</th>\n",
       "      <th>year</th>\n",
       "      <th>country</th>\n",
       "      <th>text</th>\n",
       "    </tr>\n",
       "  </thead>\n",
       "  <tbody>\n",
       "    <tr>\n",
       "      <th>0</th>\n",
       "      <td>44</td>\n",
       "      <td>1989</td>\n",
       "      <td>MDV</td>\n",
       "      <td>﻿It is indeed a pleasure for me and the member...</td>\n",
       "    </tr>\n",
       "    <tr>\n",
       "      <th>1</th>\n",
       "      <td>44</td>\n",
       "      <td>1989</td>\n",
       "      <td>FIN</td>\n",
       "      <td>﻿\\nMay I begin by congratulating you. Sir, on ...</td>\n",
       "    </tr>\n",
       "    <tr>\n",
       "      <th>2</th>\n",
       "      <td>44</td>\n",
       "      <td>1989</td>\n",
       "      <td>NER</td>\n",
       "      <td>﻿\\nMr. President, it is a particular pleasure ...</td>\n",
       "    </tr>\n",
       "    <tr>\n",
       "      <th>3</th>\n",
       "      <td>44</td>\n",
       "      <td>1989</td>\n",
       "      <td>URY</td>\n",
       "      <td>﻿\\nDuring the debate at the fortieth session o...</td>\n",
       "    </tr>\n",
       "    <tr>\n",
       "      <th>4</th>\n",
       "      <td>44</td>\n",
       "      <td>1989</td>\n",
       "      <td>ZWE</td>\n",
       "      <td>﻿I should like at the outset to express my del...</td>\n",
       "    </tr>\n",
       "  </tbody>\n",
       "</table>\n",
       "</div>"
      ],
      "text/plain": [
       "   session  year country                                               text\n",
       "0       44  1989     MDV  ﻿It is indeed a pleasure for me and the member...\n",
       "1       44  1989     FIN  ﻿\\nMay I begin by congratulating you. Sir, on ...\n",
       "2       44  1989     NER  ﻿\\nMr. President, it is a particular pleasure ...\n",
       "3       44  1989     URY  ﻿\\nDuring the debate at the fortieth session o...\n",
       "4       44  1989     ZWE  ﻿I should like at the outset to express my del..."
      ]
     },
     "execution_count": 1,
     "metadata": {},
     "output_type": "execute_result"
    },
    {
     "data": {
      "text/html": [
       "<div>\n",
       "<style scoped>\n",
       "    .dataframe tbody tr th:only-of-type {\n",
       "        vertical-align: middle;\n",
       "    }\n",
       "\n",
       "    .dataframe tbody tr th {\n",
       "        vertical-align: top;\n",
       "    }\n",
       "\n",
       "    .dataframe thead th {\n",
       "        text-align: right;\n",
       "    }\n",
       "</style>\n",
       "<table border=\"1\" class=\"dataframe\">\n",
       "  <thead>\n",
       "    <tr style=\"text-align: right;\">\n",
       "      <th></th>\n",
       "      <th>session</th>\n",
       "      <th>year</th>\n",
       "      <th>country</th>\n",
       "      <th>text</th>\n",
       "    </tr>\n",
       "  </thead>\n",
       "  <tbody>\n",
       "    <tr>\n",
       "      <th>5727</th>\n",
       "      <td>32</td>\n",
       "      <td>1977</td>\n",
       "      <td>SEN</td>\n",
       "      <td>﻿\\n1.\\t Mr. President, it is an honour to exte...</td>\n",
       "    </tr>\n",
       "    <tr>\n",
       "      <th>3870</th>\n",
       "      <td>42</td>\n",
       "      <td>1987</td>\n",
       "      <td>TTO</td>\n",
       "      <td>﻿My delegation extends to you, Mr. President, ...</td>\n",
       "    </tr>\n",
       "    <tr>\n",
       "      <th>2588</th>\n",
       "      <td>50</td>\n",
       "      <td>1995</td>\n",
       "      <td>IDN</td>\n",
       "      <td>On behalf of the Indonesian\\ndelegation I shou...</td>\n",
       "    </tr>\n",
       "    <tr>\n",
       "      <th>2475</th>\n",
       "      <td>39</td>\n",
       "      <td>1984</td>\n",
       "      <td>SAU</td>\n",
       "      <td>﻿It gives me great pleasure to congratulate Mr...</td>\n",
       "    </tr>\n",
       "    <tr>\n",
       "      <th>892</th>\n",
       "      <td>46</td>\n",
       "      <td>1991</td>\n",
       "      <td>MAR</td>\n",
       "      <td>﻿Mr. President, it gives me great pleasure to ...</td>\n",
       "    </tr>\n",
       "  </tbody>\n",
       "</table>\n",
       "</div>"
      ],
      "text/plain": [
       "      session  year country                                               text\n",
       "5727       32  1977     SEN  ﻿\\n1.\\t Mr. President, it is an honour to exte...\n",
       "3870       42  1987     TTO  ﻿My delegation extends to you, Mr. President, ...\n",
       "2588       50  1995     IDN  On behalf of the Indonesian\\ndelegation I shou...\n",
       "2475       39  1984     SAU  ﻿It gives me great pleasure to congratulate Mr...\n",
       "892        46  1991     MAR  ﻿Mr. President, it gives me great pleasure to ..."
      ]
     },
     "execution_count": 1,
     "metadata": {},
     "output_type": "execute_result"
    }
   ],
   "source": [
    "df_un_debates.head(5)\n",
    "df_un_debates.sample(5)"
   ]
  },
  {
   "cell_type": "code",
   "execution_count": 7,
   "id": "720fccb6",
   "metadata": {
    "execution": {
     "iopub.execute_input": "2022-02-07T18:39:23.608767Z",
     "iopub.status.busy": "2022-02-07T18:39:23.608767Z",
     "iopub.status.idle": "2022-02-07T18:39:23.842726Z",
     "shell.execute_reply": "2022-02-07T18:39:23.844724Z"
    }
   },
   "outputs": [
    {
     "data": {
      "text/plain": [
       "Index(['session', 'year', 'country', 'text'], dtype='object')"
      ]
     },
     "execution_count": 1,
     "metadata": {},
     "output_type": "execute_result"
    },
    {
     "data": {
      "text/plain": [
       "session     int64\n",
       "year        int64\n",
       "country    object\n",
       "text       object\n",
       "dtype: object"
      ]
     },
     "execution_count": 1,
     "metadata": {},
     "output_type": "execute_result"
    },
    {
     "name": "stdout",
     "output_type": "stream",
     "text": [
      "<class 'pandas.core.frame.DataFrame'>\n",
      "RangeIndex: 7507 entries, 0 to 7506\n",
      "Data columns (total 4 columns):\n",
      " #   Column   Non-Null Count  Dtype \n",
      "---  ------   --------------  ----- \n",
      " 0   session  7507 non-null   int64 \n",
      " 1   year     7507 non-null   int64 \n",
      " 2   country  7507 non-null   object\n",
      " 3   text     7507 non-null   object\n",
      "dtypes: int64(2), object(2)\n",
      "memory usage: 234.7+ KB\n"
     ]
    },
    {
     "data": {
      "text/html": [
       "<div>\n",
       "<style scoped>\n",
       "    .dataframe tbody tr th:only-of-type {\n",
       "        vertical-align: middle;\n",
       "    }\n",
       "\n",
       "    .dataframe tbody tr th {\n",
       "        vertical-align: top;\n",
       "    }\n",
       "\n",
       "    .dataframe thead th {\n",
       "        text-align: right;\n",
       "    }\n",
       "</style>\n",
       "<table border=\"1\" class=\"dataframe\">\n",
       "  <thead>\n",
       "    <tr style=\"text-align: right;\">\n",
       "      <th></th>\n",
       "      <th>count</th>\n",
       "      <th>mean</th>\n",
       "      <th>std</th>\n",
       "      <th>min</th>\n",
       "      <th>25%</th>\n",
       "      <th>50%</th>\n",
       "      <th>75%</th>\n",
       "      <th>max</th>\n",
       "    </tr>\n",
       "  </thead>\n",
       "  <tbody>\n",
       "    <tr>\n",
       "      <th>session</th>\n",
       "      <td>7507.0</td>\n",
       "      <td>49.610763</td>\n",
       "      <td>12.892155</td>\n",
       "      <td>25.0</td>\n",
       "      <td>39.0</td>\n",
       "      <td>51.0</td>\n",
       "      <td>61.0</td>\n",
       "      <td>70.0</td>\n",
       "    </tr>\n",
       "    <tr>\n",
       "      <th>year</th>\n",
       "      <td>7507.0</td>\n",
       "      <td>1994.610763</td>\n",
       "      <td>12.892155</td>\n",
       "      <td>1970.0</td>\n",
       "      <td>1984.0</td>\n",
       "      <td>1996.0</td>\n",
       "      <td>2006.0</td>\n",
       "      <td>2015.0</td>\n",
       "    </tr>\n",
       "  </tbody>\n",
       "</table>\n",
       "</div>"
      ],
      "text/plain": [
       "          count         mean        std     min     25%     50%     75%  \\\n",
       "session  7507.0    49.610763  12.892155    25.0    39.0    51.0    61.0   \n",
       "year     7507.0  1994.610763  12.892155  1970.0  1984.0  1996.0  2006.0   \n",
       "\n",
       "            max  \n",
       "session    70.0  \n",
       "year     2015.0  "
      ]
     },
     "execution_count": 1,
     "metadata": {},
     "output_type": "execute_result"
    },
    {
     "data": {
      "text/html": [
       "<div>\n",
       "<style scoped>\n",
       "    .dataframe tbody tr th:only-of-type {\n",
       "        vertical-align: middle;\n",
       "    }\n",
       "\n",
       "    .dataframe tbody tr th {\n",
       "        vertical-align: top;\n",
       "    }\n",
       "\n",
       "    .dataframe thead th {\n",
       "        text-align: right;\n",
       "    }\n",
       "</style>\n",
       "<table border=\"1\" class=\"dataframe\">\n",
       "  <thead>\n",
       "    <tr style=\"text-align: right;\">\n",
       "      <th></th>\n",
       "      <th>count</th>\n",
       "      <th>unique</th>\n",
       "      <th>top</th>\n",
       "      <th>freq</th>\n",
       "      <th>mean</th>\n",
       "      <th>std</th>\n",
       "      <th>min</th>\n",
       "      <th>25%</th>\n",
       "      <th>50%</th>\n",
       "      <th>75%</th>\n",
       "      <th>max</th>\n",
       "    </tr>\n",
       "  </thead>\n",
       "  <tbody>\n",
       "    <tr>\n",
       "      <th>session</th>\n",
       "      <td>7507</td>\n",
       "      <td>NaN</td>\n",
       "      <td>NaN</td>\n",
       "      <td>NaN</td>\n",
       "      <td>49.6108</td>\n",
       "      <td>12.8922</td>\n",
       "      <td>25</td>\n",
       "      <td>39</td>\n",
       "      <td>51</td>\n",
       "      <td>61</td>\n",
       "      <td>70</td>\n",
       "    </tr>\n",
       "    <tr>\n",
       "      <th>year</th>\n",
       "      <td>7507</td>\n",
       "      <td>NaN</td>\n",
       "      <td>NaN</td>\n",
       "      <td>NaN</td>\n",
       "      <td>1994.61</td>\n",
       "      <td>12.8922</td>\n",
       "      <td>1970</td>\n",
       "      <td>1984</td>\n",
       "      <td>1996</td>\n",
       "      <td>2006</td>\n",
       "      <td>2015</td>\n",
       "    </tr>\n",
       "    <tr>\n",
       "      <th>country</th>\n",
       "      <td>7507</td>\n",
       "      <td>199</td>\n",
       "      <td>COL</td>\n",
       "      <td>46</td>\n",
       "      <td>NaN</td>\n",
       "      <td>NaN</td>\n",
       "      <td>NaN</td>\n",
       "      <td>NaN</td>\n",
       "      <td>NaN</td>\n",
       "      <td>NaN</td>\n",
       "      <td>NaN</td>\n",
       "    </tr>\n",
       "    <tr>\n",
       "      <th>text</th>\n",
       "      <td>7507</td>\n",
       "      <td>7507</td>\n",
       "      <td>It is humbling to \\nstand before this great As...</td>\n",
       "      <td>1</td>\n",
       "      <td>NaN</td>\n",
       "      <td>NaN</td>\n",
       "      <td>NaN</td>\n",
       "      <td>NaN</td>\n",
       "      <td>NaN</td>\n",
       "      <td>NaN</td>\n",
       "      <td>NaN</td>\n",
       "    </tr>\n",
       "  </tbody>\n",
       "</table>\n",
       "</div>"
      ],
      "text/plain": [
       "        count unique                                                top freq  \\\n",
       "session  7507    NaN                                                NaN  NaN   \n",
       "year     7507    NaN                                                NaN  NaN   \n",
       "country  7507    199                                                COL   46   \n",
       "text     7507   7507  It is humbling to \\nstand before this great As...    1   \n",
       "\n",
       "            mean      std   min   25%   50%   75%   max  \n",
       "session  49.6108  12.8922    25    39    51    61    70  \n",
       "year     1994.61  12.8922  1970  1984  1996  2006  2015  \n",
       "country      NaN      NaN   NaN   NaN   NaN   NaN   NaN  \n",
       "text         NaN      NaN   NaN   NaN   NaN   NaN   NaN  "
      ]
     },
     "execution_count": 1,
     "metadata": {},
     "output_type": "execute_result"
    }
   ],
   "source": [
    "df_un_debates.columns\n",
    "df_un_debates.dtypes\n",
    "df_un_debates.info()\n",
    "df_un_debates.describe().T\n",
    "df_un_debates.describe(include='all').T  # in book, they use include='0'"
   ]
  }
 ],
 "metadata": {
  "jupytext": {
   "cell_metadata_filter": "-all"
  },
  "kernelspec": {
   "display_name": "Python 3",
   "language": "python",
   "name": "python3"
  },
  "language_info": {
   "codemirror_mode": {
    "name": "ipython",
    "version": 3
   },
   "file_extension": ".py",
   "mimetype": "text/x-python",
   "name": "python",
   "nbconvert_exporter": "python",
   "pygments_lexer": "ipython3",
   "version": "3.6.5"
  }
 },
 "nbformat": 4,
 "nbformat_minor": 5
}
